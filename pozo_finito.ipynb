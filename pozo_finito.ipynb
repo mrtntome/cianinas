{
 "cells": [
  {
   "cell_type": "markdown",
   "metadata": {},
   "source": [
    "# Pozo Finito"
   ]
  },
  {
   "cell_type": "markdown",
   "metadata": {},
   "source": [
    "Sigo las cuentas de [Wikipedia](https://en.wikipedia.org/wiki/Finite_potential_well).\n",
    "\n",
    "La unica diferencia es que tomo el pozo entre $-L$ y $L$ en vez de entre $-\\frac{L}{2}$ y $\\frac{L}{2}$.\n",
    "\n",
    "Hay que encontrar las soluciones de \n",
    "$$\\sqrt{\\left(\\frac{u_0}{v}\\right)^2 - 1} = \\begin{cases} \\tan{(v)} & \\text{(Soluciones Simétricas)} \\\\\n",
    "      -\\cot{(v)} & \\text{(Soluciones Antisimétricas)} \\end{cases},$$\n",
    "donde $u_{0}^{2} = \\frac{2 m  L^2 V}{\\hbar^2}$.\n",
    "\n",
    "Si tomamos $$LHS(v) = \\sqrt{\\left(\\frac{u_0}{v}\\right)^2 - 1}$$ y $$RHS(v) = \\begin{cases} \\tan{(v)} & \\text{(Soluciones Simetricas)} \\\\ -\\cot{(v)} & \\text{(Soluciones Antisimetricas)} \\end{cases}$$\n",
    "\n",
    "podemos buscar los picos de $$f(v) = \\frac{1}{|LHS(v) - RHS(v)| + \\delta}$$ los cuales corresponden a las soluciones ($\\delta \\ll 1$)."
   ]
  },
  {
   "cell_type": "code",
   "execution_count": 1,
   "metadata": {},
   "outputs": [
    {
     "data": {
      "application/vnd.jupyter.widget-view+json": {
       "model_id": "4fe62b84f376441c818c4a9279690bfd",
       "version_major": 2,
       "version_minor": 0
      },
      "text/plain": [
       "interactive(children=(FloatSlider(value=8.0, description='$V[eV]$', min=0.1), IntSlider(value=5, description='…"
      ]
     },
     "metadata": {},
     "output_type": "display_data"
    },
    {
     "data": {
      "application/vnd.jupyter.widget-view+json": {
       "model_id": "91c0e7181e5e4bc595c486c324d96b78",
       "version_major": 2,
       "version_minor": 0
      },
      "text/plain": [
       "interactive(children=(BoundedFloatText(value=2.5, description='$\\\\Delta E_{4 \\\\rightarrow 5} [eV] (p=5)$', max…"
      ]
     },
     "metadata": {},
     "output_type": "display_data"
    },
    {
     "data": {
      "text/plain": [
       "<function __main__.<lambda>(dE5, dE7, dE9, Vmin, Vmax)>"
      ]
     },
     "execution_count": 1,
     "metadata": {},
     "output_type": "execute_result"
    }
   ],
   "source": [
    "%matplotlib inline\n",
    "import numpy as np\n",
    "from scipy import constants, signal\n",
    "import matplotlib.pyplot as plt\n",
    "import ipywidgets as widgets\n",
    "\n",
    "def dE(V, p, a=1.39, d=0.0, N=10000, delta=1e-5, offset=1e-3, plot=True):\n",
    "    Ni = np.floor((p + 3)/2).astype(int) - 1 \n",
    "    Nf = Ni + 1\n",
    "    \n",
    "    eV = constants.electron_volt\n",
    "    agm = constants.angstrom\n",
    "    hbar = constants.hbar\n",
    "    m = constants.electron_mass\n",
    "    \n",
    "    V_mks = V * eV\n",
    "    a_mks = a * agm\n",
    "    \n",
    "    L = 0.5*a_mks*(p+2+d)\n",
    "    u0 = (L/hbar)*np.sqrt(2*m*V_mks) \n",
    "    v = np.linspace(offset, u0, N)\n",
    "    \n",
    "    num_niveles = np.ceil(2*u0/np.pi).astype(int)\n",
    "    \n",
    "    lhs = np.sqrt((u0/v)**2 - 1)\n",
    "    cond_s = np.mod(np.floor(2*v/np.pi).astype(int), 2) == 0\n",
    "    cond_a = np.mod(np.floor(2*v/np.pi).astype(int), 2) == 1\n",
    "    rhs = np.piecewise(v, [cond_s, cond_a], [lambda x: np.tan(x), lambda x: np.tan(x - 0.5*np.pi)])\n",
    "    \n",
    "    auxf = 1/(np.abs(lhs - rhs)+delta)\n",
    "    \n",
    "    roots = signal.find_peaks(auxf)[0]\n",
    "    \n",
    "    levels_mks = (v[roots]/L)**2 * hbar**2/(2*m)\n",
    "    levels_eV = levels_mks/eV\n",
    "    dE = np.round(levels_eV[Nf] - levels_eV[Ni], 3)\n",
    "    \n",
    "    if (plot is True):\n",
    "        plt.figure(figsize=(10, 6))\n",
    "        plt.title(r'$\\Delta E_{' + str(Ni+1) + r'\\rightarrow' + str(Nf+1) + r'} = ' + str(dE) + r'$' + 'eV' )\n",
    "        plt.plot(v, lhs, color='dimgrey', label=r'$\\sqrt{\\left(\\frac{u_{0}}{v}\\right)^{2}-1}$')\n",
    "        plt.ylim(0, np.sqrt((4*u0/np.pi)**2 - 1))\n",
    "        plt.plot(v, np.ma.masked_outside(np.tan(v), 0.0, 2*np.sqrt((4*u0/np.pi)**2 - 1)), color='tab:red', label=r'$\\tan{(v)}$' + \" (Soluciones Simétricas)\")\n",
    "        plt.plot(v, np.ma.masked_outside(np.tan(v - 0.5*np.pi), 0.0, 2*np.sqrt((4*u0/np.pi)**2 - 1)), color='tab:blue', label=r'$- \\cot{(v)}$' + \" (Soluciones Antisimétricas)\")\n",
    "        plt.xlabel(r'$v$')\n",
    "        plt.legend(loc='upper right')\n",
    "        plt.show()      \n",
    "    return dE\n",
    "\n",
    "def fit_V(dE5, dE7, dE9, Vmin, Vmax, N=1000):\n",
    "    model_dE = np.frompyfunc(lambda V, p: dE(V, p, plot=False), 2, 1)\n",
    "    \n",
    "    p_a = np.arange(5.0, 11.0, 2.0)\n",
    "    dE_a = np.array([dE5, dE7, dE9])\n",
    "    V_a = np.linspace(Vmin, Vmax, N)\n",
    "    chi_a = (model_dE(V_a, 5) - dE5)**2 + (model_dE(V_a, 7) - dE7)**2 + (model_dE(V_a, 9) - dE9)**2\n",
    "    arg_min = np.argmin(chi_a)\n",
    "    chi_opt = np.round(chi_a[arg_min], 4)\n",
    "    V_opt = np.round(V_a[arg_min], 3)\n",
    "    \n",
    "    fig, ax = plt.subplots(1, 2, figsize=(14, 6))\n",
    "    ax[0].plot(p_a, model_dE(V_opt, p_a), \"ro\", label=\"Ajuste\")\n",
    "    ax[0].plot(p_a, dE_a, \"bo\", label=\"Datos Experimentales\")\n",
    "    ax[0].set_xticks([5, 7, 9])\n",
    "    ax[0].set_xlabel(r'$p$')\n",
    "    ax[0].set_ylabel(r'$\\Delta E$' + '[eV]', rotation=0)\n",
    "    ax[0].legend(loc='upper right')\n",
    "    ax[1].plot(V_a, chi_a)\n",
    "    ax[1].set_title(r'$V_{opt} = $' + str(V_opt) + ' eV  ' + r'$\\chi_{opt} = $' + str(chi_opt))\n",
    "    ax[1].set_xlabel(r'$V$' + '[eV]')\n",
    "    ax[1].set_ylabel(r'$\\chi^{2}$', rotation=0)\n",
    "    plt.show() \n",
    "    return V_opt\n",
    "\n",
    "interactive_dE = lambda V, p, a, d: dE(V, p, a=a, d=d)\n",
    "interactive_fit = lambda dE5, dE7, dE9, Vmin, Vmax: fit_V(dE5, dE7, dE9, Vmin, Vmax, N=1000)\n",
    "\n",
    "widgets.interact(interactive_dE, V=widgets.FloatSlider(min=0.1, max=100.0, step=0.1, value=8.0, description=r'$V[eV]$'),\n",
    "                 p=widgets.IntSlider(min=3, max=9, step=2, value=5, description=r'$p$'),\n",
    "                 a=widgets.FloatSlider(min=0.5, max=2.0, step=0.01, value=1.39, description=r'$a [Å]$'),\n",
    "                 d=widgets.FloatSlider(min=0.0, max=0.5, step=0.1, value=0.0, description=r'$d$'))\n",
    "\n",
    "#widgets.interact(interactive_fit, dE5=widgets.BoundedFloatText(min=0.1, max=10.0, step=0.001, value=2.50, description=r'$\\Delta E_{4 \\rightarrow 5} [eV] (p=5)$', readout_format='.3f'),\n",
    "#                 dE7=widgets.BoundedFloatText(min=0.1, max=10.0, step=0.001, value=2.1, description=r'$\\Delta E_{5 \\rightarrow 6} [eV] (p=7)$', readout_format='.3f'),\n",
    "#                 dE9=widgets.BoundedFloatText(min=0.1, max=10.0, step=0.001, value=1.8, description=r'$\\Delta E_{6 \\rightarrow 7} [eV] (p=9)$', readout_format='.3f'),\n",
    "#                 Vmin=widgets.BoundedFloatText(min=1.0, max=20.0, step=0.1, value=8.0, description=r'$V_{min} [eV]$'),\n",
    "#                 Vmax=widgets.BoundedFloatText(min=1.0, max=20.0, step=0.1, value=12.0, description=r'$V_{max} [eV]$'))"
   ]
  },
  {
   "cell_type": "code",
   "execution_count": null,
   "metadata": {},
   "outputs": [],
   "source": []
  }
 ],
 "metadata": {
  "kernelspec": {
   "display_name": "Python 3",
   "language": "python",
   "name": "python3"
  },
  "language_info": {
   "codemirror_mode": {
    "name": "ipython",
    "version": 3
   },
   "file_extension": ".py",
   "mimetype": "text/x-python",
   "name": "python",
   "nbconvert_exporter": "python",
   "pygments_lexer": "ipython3",
   "version": "3.8.5"
  }
 },
 "nbformat": 4,
 "nbformat_minor": 4
}
